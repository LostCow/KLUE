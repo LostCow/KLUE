{
 "cells": [
  {
   "cell_type": "code",
   "execution_count": 1,
   "metadata": {},
   "outputs": [],
   "source": [
    "import os\n",
    "import tarfile\n",
    "\n",
    "import torch\n",
    "from dataloader import KlueMrcDataLoaderGetter\n",
    "from tqdm import tqdm\n",
    "from transformers import AutoConfig, AutoModelForQuestionAnswering, AutoTokenizer, BertTokenizer\n",
    "from transformers.data.metrics.squad_metrics import compute_predictions_logits\n",
    "from transformers.data.processors.squad import SquadResult\n",
    "from custom_model.model import RobertaQASplit\n",
    "from easydict import EasyDict\n",
    "\n",
    "KLUE_MRC_OUTPUT = \"output.csv\"  # the name of output file should be output.csv\n"
   ]
  },
  {
   "cell_type": "code",
   "execution_count": 2,
   "metadata": {},
   "outputs": [],
   "source": [
    "def load_model_and_type(model_dir: str, model_tar_file: str):\n",
    "    \"\"\"load model and model type from tar file pre-fetched from s3\n",
    "\n",
    "    Args:\n",
    "        model_dir: str: the directory of tar file\n",
    "        model_tar_path: str: the name of tar file\n",
    "    \"\"\"\n",
    "    tarpath = os.path.join(model_dir, model_tar_file)\n",
    "    tar = tarfile.open(tarpath, \"r:gz\")\n",
    "    tar.extractall(path=model_dir)\n",
    "\n",
    "    model = RobertaQASplit.from_pretrained(model_dir)\n",
    "    config = AutoConfig.from_pretrained(model_dir)\n",
    "    return model, config.model_type\n",
    "\n",
    "\n",
    "@torch.no_grad()\n",
    "def inference(data_dir: str, model_dir: str, output_dir: str, args) -> None:\n",
    "    # configure gpu\n",
    "    num_gpus = torch.cuda.device_count()\n",
    "    device = torch.device(\"cuda\" if torch.cuda.is_available() else \"cpu\")\n",
    "    # load model\n",
    "    model, model_type = load_model_and_type(model_dir, args.model_tar_file)\n",
    "    model.to(device)\n",
    "    if num_gpus > 1:\n",
    "        model = torch.nn.DataParallel(model)\n",
    "    model.eval()\n",
    "    kwargs = (\n",
    "        {\"num_workers\": num_gpus, \"pin_memory\": True}\n",
    "        if torch.cuda.is_available()\n",
    "        else {}\n",
    "    )\n",
    "    # load tokenizer\n",
    "    tokenizer = BertTokenizer.from_pretrained(model_dir)\n",
    "    # infer\n",
    "    output_file_path = os.path.join(output_dir, KLUE_MRC_OUTPUT)\n",
    "\n",
    "    klue_mrc_dataloader_getter = KlueMrcDataLoaderGetter(\n",
    "        tokenizer=tokenizer,\n",
    "        max_seq_length=args.max_seq_length,\n",
    "        doc_stride=args.doc_stride,\n",
    "        max_query_length=args.max_query_length,\n",
    "    )\n",
    "    klue_mrc_dataloader = klue_mrc_dataloader_getter.get_dataloader(\n",
    "        file_path=os.path.join(data_dir, args.test_filename),\n",
    "        batch_size=args.batch_size,\n",
    "        **kwargs\n",
    "    )\n",
    "    qa_result = list()\n",
    "    for data in tqdm(klue_mrc_dataloader):\n",
    "        input_ids, attention_mask, token_type_ids, idx = data\n",
    "        input_ids = input_ids.to(device)\n",
    "        attention_mask = attention_mask.to(device)\n",
    "        token_type_ids = token_type_ids.to(device)\n",
    "\n",
    "        # roberta does not accept token_type_id > 1\n",
    "        if model_type == \"roberta\":\n",
    "            token_type_ids = None\n",
    "\n",
    "        # start_logits, end_logits = model(\n",
    "        #     input_ids=input_ids,\n",
    "        #     attention_mask=attention_mask,\n",
    "        #     token_type_ids=token_type_ids,\n",
    "        # )\n",
    "\n",
    "        outputs = model(\n",
    "            input_ids=input_ids,\n",
    "            attention_mask=attention_mask,\n",
    "            token_type_ids=token_type_ids,\n",
    "        )\n",
    "\n",
    "        batch_results = list()\n",
    "        # print(start_logits)\n",
    "        # print(type(start_logits))\n",
    "        # print(outputs)\n",
    "        # print(type(outputs))\n",
    "\n",
    "        for i, feature_index in enumerate(idx):\n",
    "            unique_id = klue_mrc_dataloader.dataset.features[feature_index].unique_id\n",
    "            single_example_start_logits = outputs.start_logits[i].tolist() # start_logits[i].tolist()\n",
    "            single_example_end_logits = outputs.end_logits[i].tolist()\n",
    "            batch_results.append(\n",
    "                SquadResult(\n",
    "                    unique_id, single_example_start_logits, single_example_end_logits\n",
    "                )\n",
    "            )\n",
    "\n",
    "        qa_result.extend(batch_results)\n",
    "\n",
    "    examples = klue_mrc_dataloader.dataset.examples\n",
    "    features = klue_mrc_dataloader.dataset.features\n",
    "    do_lower_case = getattr(tokenizer, \"do_lower_case\", False)\n",
    "\n",
    "    preds = compute_predictions_logits(\n",
    "        all_examples=examples,\n",
    "        all_features=features,\n",
    "        all_results=qa_result,\n",
    "        n_best_size=args.n_best_size,\n",
    "        max_answer_length=args.max_answer_length,\n",
    "        do_lower_case=do_lower_case,\n",
    "        output_prediction_file=output_file_path,\n",
    "        output_nbest_file=None,\n",
    "        output_null_log_odds_file=None,\n",
    "        verbose_logging=False,\n",
    "        version_2_with_negative=True,\n",
    "        null_score_diff_threshold=0,\n",
    "        tokenizer=tokenizer,\n",
    "    )\n",
    "    return preds"
   ]
  },
  {
   "cell_type": "code",
   "execution_count": 5,
   "metadata": {},
   "outputs": [
    {
     "name": "stderr",
     "output_type": "stream",
     "text": [
      "convert squad examples to features: 100%|██████████| 13/13 [00:00<00:00, 52.74it/s]\n",
      "add example index and unique id: 100%|██████████| 13/13 [00:00<00:00, 119574.46it/s]\n",
      "100%|██████████| 2/2 [00:00<00:00,  2.03it/s]\n"
     ]
    }
   ],
   "source": [
    "if __name__ == \"__main__\":\n",
    "    args = EasyDict({\n",
    "        \"batch_size\": 30,\n",
    "        \"data_dir\" : \"./data\",\n",
    "        \"model_dir\": \"./model\",\n",
    "        \"model_tar_file\":\"klue_mrc_model.tar.gz\",\n",
    "        \"output_dir\":\"./model\",\n",
    "        \"max_seq_length\":384,\n",
    "        \"max_query_length\" : 64,\n",
    "        \"test_filename\" : \"klue-mrc-v1.1_dev_sample_10.json\",\n",
    "        \"doc_stride\": 128,\n",
    "        \"n_best_size\": 20,\n",
    "        \"max_answer_length\":30,\n",
    "        \"num_workers\" : 4\n",
    "    })\n",
    "\n",
    "    data_dir = args.data_dir\n",
    "    model_dir = args.model_dir\n",
    "    output_dir = args.output_dir\n",
    "    inference(data_dir, model_dir, output_dir, args)"
   ]
  },
  {
   "cell_type": "code",
   "execution_count": 1,
   "metadata": {},
   "outputs": [],
   "source": [
    "a = {'a': 1}"
   ]
  },
  {
   "cell_type": "code",
   "execution_count": 2,
   "metadata": {},
   "outputs": [
    {
     "data": {
      "text/plain": [
       "1"
      ]
     },
     "execution_count": 2,
     "metadata": {},
     "output_type": "execute_result"
    }
   ],
   "source": [
    "len(a)"
   ]
  }
 ],
 "metadata": {
  "interpreter": {
   "hash": "d4d1e4263499bec80672ea0156c357c1ee493ec2b1c70f0acce89fc37c4a6abe"
  },
  "kernelspec": {
   "display_name": "Python 3.8.12 64-bit ('base': conda)",
   "language": "python",
   "name": "python3"
  },
  "language_info": {
   "codemirror_mode": {
    "name": "ipython",
    "version": 3
   },
   "file_extension": ".py",
   "mimetype": "text/x-python",
   "name": "python",
   "nbconvert_exporter": "python",
   "pygments_lexer": "ipython3",
   "version": "3.8.12"
  },
  "orig_nbformat": 4
 },
 "nbformat": 4,
 "nbformat_minor": 2
}
