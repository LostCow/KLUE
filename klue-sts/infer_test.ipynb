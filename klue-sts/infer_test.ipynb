{
 "cells": [
  {
   "cell_type": "code",
   "execution_count": 1,
   "metadata": {},
   "outputs": [],
   "source": [
    "import argparse\n",
    "import os\n",
    "import tarfile\n",
    "\n",
    "import torch\n",
    "from torch.utils.data import DataLoader\n",
    "from dataset import KlueStsWithSentenceMaskDataset\n",
    "from transformers import AutoTokenizer, AutoConfig\n",
    "from utils import read_json\n",
    "from model import RobertaForStsRegression\n",
    "\n",
    "from easydict import EasyDict"
   ]
  },
  {
   "cell_type": "code",
   "execution_count": 2,
   "metadata": {},
   "outputs": [],
   "source": [
    "args = EasyDict({\n",
    "    \"batch_size\": 64,\n",
    "    \"data_dir\" : \"./data\",\n",
    "    \"model_dir\": \"./model\",\n",
    "    \"model_tar_file\":\"klue-sts.tar.gz\",\n",
    "    \"output_dir\":\"./output\",\n",
    "    \"max_seq_length\":512,\n",
    "    \"test_filename\" : \"klue-sts-v1.1_dev.json\",\n",
    "    \"output_filename\": \"output.csv\",\n",
    "    \"num_workers\" : 4\n",
    "})"
   ]
  },
  {
   "cell_type": "code",
   "execution_count": 3,
   "metadata": {},
   "outputs": [],
   "source": [
    "def load_model_and_type(model_dir, model_tar_file):\n",
    "    \"\"\"load model and model type from tar file pre-fetched from s3\n",
    "\n",
    "    Args:\n",
    "        model_dir: str: the directory of tar file\n",
    "        model_tar_path: str: the name of tar file\n",
    "    \"\"\"\n",
    "    tarpath = os.path.join(model_dir, model_tar_file)\n",
    "    tar = tarfile.open(tarpath, \"r:gz\")\n",
    "    tar.extractall(path=model_dir)\n",
    "    model = RobertaForStsRegression.from_pretrained(model_dir)\n",
    "    config = AutoConfig.from_pretrained(model_dir)\n",
    "    return model, config.model_type"
   ]
  },
  {
   "cell_type": "code",
   "execution_count": 4,
   "metadata": {},
   "outputs": [],
   "source": [
    "@torch.no_grad()\n",
    "def inference(data_dir, model_dir, output_dir, args) -> None:\n",
    "    # configure gpu\n",
    "    num_gpus = torch.cuda.device_count()\n",
    "    device = torch.device(\"cuda\" if torch.cuda.is_available() else \"cpu\")\n",
    "\n",
    "    # load model\n",
    "    model, model_type = load_model_and_type(model_dir, args.model_tar_file)\n",
    "    model.to(device)\n",
    "    if num_gpus > 1:\n",
    "        model = torch.nn.DataParallel(model)\n",
    "    model.eval()\n",
    "\n",
    "    # load tokenizer\n",
    "    tokenizer = AutoTokenizer.from_pretrained(model_dir)\n",
    "\n",
    "    # get test_data_loader\n",
    "    test_file_path = os.path.join(args.data_dir, args.test_filename)\n",
    "    test_json = read_json(test_file_path)\n",
    "    test_dataset = KlueStsWithSentenceMaskDataset(test_json, tokenizer, 510)\n",
    "    data_loader = DataLoader(test_dataset,args.batch_size, drop_last = False)\n",
    "    \n",
    "\n",
    "    # infer\n",
    "    output_file = open(os.path.join(output_dir, args.output_filename), \"w\")\n",
    "    for batch in data_loader:\n",
    "        input_data = {key : value.to(device) for key, value in batch.items() if not key == 'labels'}\n",
    "        #input_data['token_type_ids'] = None\n",
    "\n",
    "        output = model(**input_data)[0]\n",
    "\n",
    "        preds = output.detach().cpu().numpy()\n",
    "\n",
    "        for p in preds:\n",
    "            score = p[0]\n",
    "            output_file.write(f\"{score}\\n\")\n",
    "\n",
    "    output_file.close()"
   ]
  },
  {
   "cell_type": "code",
   "execution_count": 5,
   "metadata": {},
   "outputs": [],
   "source": [
    "data_dir = args.data_dir\n",
    "model_dir = args.model_dir\n",
    "output_dir = args.output_dir\n",
    "inference(data_dir, model_dir, output_dir, args)"
   ]
  },
  {
   "cell_type": "code",
   "execution_count": null,
   "metadata": {},
   "outputs": [],
   "source": []
  }
 ],
 "metadata": {
  "interpreter": {
   "hash": "d4d1e4263499bec80672ea0156c357c1ee493ec2b1c70f0acce89fc37c4a6abe"
  },
  "kernelspec": {
   "display_name": "Python 3.8.12 64-bit ('base': conda)",
   "language": "python",
   "name": "python3"
  },
  "language_info": {
   "codemirror_mode": {
    "name": "ipython",
    "version": 3
   },
   "file_extension": ".py",
   "mimetype": "text/x-python",
   "name": "python",
   "nbconvert_exporter": "python",
   "pygments_lexer": "ipython3",
   "version": "3.8.12"
  },
  "orig_nbformat": 4
 },
 "nbformat": 4,
 "nbformat_minor": 2
}
